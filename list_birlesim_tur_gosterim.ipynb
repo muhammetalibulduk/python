{
  "nbformat": 4,
  "nbformat_minor": 0,
  "metadata": {
    "colab": {
      "name": "list_birlesim_tur_gosterim.ipynb",
      "provenance": [],
      "collapsed_sections": [],
      "authorship_tag": "ABX9TyNRdEcm6kHtkh8LZMQ0r4J9",
      "include_colab_link": true
    },
    "kernelspec": {
      "name": "python3",
      "display_name": "Python 3"
    },
    "language_info": {
      "name": "python"
    }
  },
  "cells": [
    {
      "cell_type": "markdown",
      "metadata": {
        "id": "view-in-github",
        "colab_type": "text"
      },
      "source": [
        "<a href=\"https://colab.research.google.com/github/muhammetalibulduk/python/blob/main/list_birlesim_tur_gosterim.ipynb\" target=\"_parent\"><img src=\"https://colab.research.google.com/assets/colab-badge.svg\" alt=\"Open In Colab\"/></a>"
      ]
    },
    {
      "cell_type": "code",
      "metadata": {
        "colab": {
          "base_uri": "https://localhost:8080/"
        },
        "id": "7OzDJIIw2-X2",
        "outputId": "819067fa-e2dd-4bb7-b1a8-1cef00dcdda4"
      },
      "source": [
        "tek_sayi  = [1,3,5,7,9,11]\n",
        "\n",
        "cift_sayi = [2,4,6,8,10,12]\n",
        "\n",
        "birlesim = tek_sayi + cift_sayi\n",
        "\n",
        "print(birlesim)\n",
        "\n",
        "birlesim.sort()\n",
        "\n",
        "print(birlesim)\n",
        "\n",
        "carpimlari = [i*2 for i in birlesim]\n",
        "\n",
        "print(carpimlari)\n",
        "\n",
        "for türleri in carpimlari:\n",
        "  print(type(türleri))\n"
      ],
      "execution_count": 21,
      "outputs": [
        {
          "output_type": "stream",
          "text": [
            "[1, 3, 5, 7, 9, 11, 2, 4, 6, 8, 10, 12]\n",
            "[1, 2, 3, 4, 5, 6, 7, 8, 9, 10, 11, 12]\n",
            "[2, 4, 6, 8, 10, 12, 14, 16, 18, 20, 22, 24]\n",
            "<class 'int'>\n",
            "<class 'int'>\n",
            "<class 'int'>\n",
            "<class 'int'>\n",
            "<class 'int'>\n",
            "<class 'int'>\n",
            "<class 'int'>\n",
            "<class 'int'>\n",
            "<class 'int'>\n",
            "<class 'int'>\n",
            "<class 'int'>\n",
            "<class 'int'>\n"
          ],
          "name": "stdout"
        }
      ]
    },
    {
      "cell_type": "code",
      "metadata": {
        "id": "70YxVaI6-UH_"
      },
      "source": [
        ""
      ],
      "execution_count": null,
      "outputs": []
    }
  ]
}